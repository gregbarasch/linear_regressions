{
 "cells": [
  {
   "cell_type": "code",
   "execution_count": 11,
   "metadata": {},
   "outputs": [],
   "source": [
    "from sklearn.model_selection import KFold\n",
    "import numpy as np\n",
    "import pandas as pd\n",
    "import math"
   ]
  },
  {
   "cell_type": "code",
   "execution_count": 12,
   "metadata": {},
   "outputs": [
    {
     "name": "stdout",
     "output_type": "stream",
     "text": [
      "    Age  Temp of Water  Length of Fish\n",
      "0    14             25             620\n",
      "1    28             25            1315\n",
      "2    41             25            2120\n",
      "3    55             25            2600\n",
      "4    69             25            3110\n",
      "5    83             25            3535\n",
      "6    97             25            3935\n",
      "7   111             25            4465\n",
      "8   125             25            4530\n",
      "9   139             25            4570\n",
      "10  153             25            4600\n",
      "11   14             27             625\n",
      "12   28             27            1215\n",
      "13   41             27            2110\n",
      "14   55             27            2805\n",
      "15   69             27            3255\n",
      "16   83             27            4015\n",
      "17   97             27            4315\n",
      "18  111             27            4495\n",
      "19  125             27            4535\n",
      "20  139             27            4600\n",
      "21  153             27            4600\n",
      "22   14             29             590\n",
      "23   28             29            1305\n",
      "24   41             29            2140\n",
      "25   55             29            2890\n",
      "26   69             29            3920\n",
      "27   83             29            3920\n",
      "28   97             29            4515\n",
      "29  111             29            4520\n",
      "30  125             29            4525\n",
      "31  139             29            4565\n",
      "32  153             29            4566\n",
      "33   14             31             590\n",
      "34   28             31            1205\n",
      "35   41             31            1915\n",
      "36   55             31            2140\n",
      "37   69             31            2710\n",
      "38   83             31            3020\n",
      "39   97             31            3030\n",
      "40  111             31            3040\n",
      "41  125             31            3180\n",
      "42  139             31            3257\n",
      "43  153             31            3214\n"
     ]
    }
   ],
   "source": [
    "# Load our matrices and drop our index\n",
    "df = pd.read_csv('x06Simple.csv', header=0)\n",
    "df.drop(df.columns[0], axis=1, inplace=True)\n",
    "print(df)"
   ]
  },
  {
   "cell_type": "code",
   "execution_count": 13,
   "metadata": {},
   "outputs": [
    {
     "name": "stdout",
     "output_type": "stream",
     "text": [
      "[[  14   25  620]\n",
      " [  28   25 1315]\n",
      " [  41   25 2120]\n",
      " [  55   25 2600]\n",
      " [  69   25 3110]\n",
      " [  83   25 3535]\n",
      " [  97   25 3935]\n",
      " [ 111   25 4465]\n",
      " [ 125   25 4530]\n",
      " [ 139   25 4570]\n",
      " [ 153   25 4600]\n",
      " [  14   27  625]\n",
      " [  28   27 1215]\n",
      " [  41   27 2110]\n",
      " [  55   27 2805]\n",
      " [  69   27 3255]\n",
      " [  83   27 4015]\n",
      " [  97   27 4315]\n",
      " [ 111   27 4495]\n",
      " [ 125   27 4535]\n",
      " [ 139   27 4600]\n",
      " [ 153   27 4600]\n",
      " [  14   29  590]\n",
      " [  28   29 1305]\n",
      " [  41   29 2140]\n",
      " [  55   29 2890]\n",
      " [  69   29 3920]\n",
      " [  83   29 3920]\n",
      " [  97   29 4515]\n",
      " [ 111   29 4520]\n",
      " [ 125   29 4525]\n",
      " [ 139   29 4565]\n",
      " [ 153   29 4566]\n",
      " [  14   31  590]\n",
      " [  28   31 1205]\n",
      " [  41   31 1915]\n",
      " [  55   31 2140]\n",
      " [  69   31 2710]\n",
      " [  83   31 3020]\n",
      " [  97   31 3030]\n",
      " [ 111   31 3040]\n",
      " [ 125   31 3180]\n",
      " [ 139   31 3257]\n",
      " [ 153   31 3214]]\n"
     ]
    }
   ],
   "source": [
    "# convert our dataframe into an nparray\n",
    "data = df.to_numpy()\n",
    "print(data)"
   ]
  },
  {
   "cell_type": "code",
   "execution_count": 15,
   "metadata": {},
   "outputs": [],
   "source": [
    "# We expect train and test to be the same length horizontally\n",
    "# Returns root mean square error\n",
    "def linear_regression(train, test):\n",
    "    rowlen = train.shape[1]\n",
    "\n",
    "    # Extract the x matrix and standardize\n",
    "    # (with range its i:j+1 and with single value its just j... easy to have an off by 1 error with column extraction)\n",
    "    train_x = train[:, 0:rowlen-1]\n",
    "\n",
    "    # extracted the y column, and convert it back into a single column matrix\n",
    "    train_y = train[:, rowlen-1]\n",
    "    train_y = train_y.reshape(train_y.shape[0], 1)\n",
    "\n",
    "    # Normalize our x training data\n",
    "    train_x_mean = np.mean(train_x, axis=0)\n",
    "    train_x_std = np.std(train_x, axis=0, ddof=1)\n",
    "    train_x_norm = (train_x-train_x_mean) / train_x_std\n",
    "\n",
    "    # Add our bias to the training data\n",
    "    train_x_norm = np.append(np.ones((train.shape[0], 1)), train_x_norm, 1)\n",
    "\n",
    "    # 1 shot computation of normal form of function\n",
    "    thetas = np.linalg.inv(train_x_norm.T@train_x_norm) @ (train_x_norm.T@train_y)\n",
    "\n",
    "    # Now we can use our test data and make some predictions in order to calculate root mean square error\n",
    "    total_squared_error = 0\n",
    "    for row in test:\n",
    "\n",
    "        # Normalize our test data based on training data\n",
    "        row_x = row[0:rowlen-1]\n",
    "        row_x_norm = (row_x-train_x_mean) / train_x_std\n",
    "\n",
    "        # Dont forget to add the bias!\n",
    "        row_x_norm = np.append(np.ones(1), row_x_norm)\n",
    "\n",
    "        # Calculate the distance between the predicted vs actual, and sum them up so we can average at end\n",
    "        predicted = (row_x_norm @ thetas)\n",
    "        actual = row[rowlen-1]\n",
    "        error = actual - predicted\n",
    "        total_squared_error += error**2\n",
    "\n",
    "    mse = total_squared_error / test.shape[0]\n",
    "    rmse = math.sqrt(mse)\n",
    "    return rmse"
   ]
  },
  {
   "cell_type": "code",
   "execution_count": 16,
   "metadata": {},
   "outputs": [],
   "source": [
    "# Returns a tuple containing the mean and std dev of the RMSEs\n",
    "def sfolds(s, ds, out=False):\n",
    "    kf = KFold(n_splits=s, shuffle=True)\n",
    "\n",
    "    # From 1 -> S, calculate the root mean square error..\n",
    "    # Kfold shuffle seed is generated at random implicitly\n",
    "    rmse_vec = []\n",
    "    for train_index, test_index in kf.split(ds):\n",
    "        rmse = linear_regression(ds[train_index], ds[test_index])\n",
    "        rmse_vec.append(rmse)\n",
    "\n",
    "    # Calculate our mean and create our tuple\n",
    "    mean = np.mean(np.array(rmse_vec))\n",
    "\n",
    "    # Print..\n",
    "    if out:\n",
    "        print(\"\\nS: \" + str(s))\n",
    "        print(\"Mean: \" + str(mean))\n",
    "\n",
    "    return mean"
   ]
  },
  {
   "cell_type": "code",
   "execution_count": 17,
   "metadata": {},
   "outputs": [],
   "source": [
    "# Run sfold n times\n",
    "# Return average mean and Std Dev\n",
    "def run_n_sfolds(s, ds, n=20):\n",
    "\n",
    "    # Tally up the means and stdevs\n",
    "    means = []\n",
    "    for _ in range(n):\n",
    "        sf_mean = sfolds(s, ds)\n",
    "        means.append(sf_mean)\n",
    "\n",
    "    # Create the tuple that averages out our means and stdevs\n",
    "    means = np.array(means)\n",
    "    avg_sf_tuple = np.mean(means), np.std(means, ddof=1)\n",
    "\n",
    "    # Print..\n",
    "    print(\"\\nS: \" + str(s))\n",
    "    print(\"Mean: \" + str(avg_sf_tuple[0]))\n",
    "    print(\"Std Dev: \" + str(avg_sf_tuple[1]))"
   ]
  },
  {
   "cell_type": "code",
   "execution_count": 22,
   "metadata": {
    "pycharm": {
     "name": "#%%\n"
    },
    "scrolled": false
   },
   "outputs": [
    {
     "name": "stdout",
     "output_type": "stream",
     "text": [
      "\n",
      "S: 3\n",
      "Mean: 628.1942701793475\n",
      "Std Dev: 43.375948585004636\n",
      "\n",
      "S: 5\n",
      "Mean: 614.4233435971977\n",
      "Std Dev: 23.52840465428092\n",
      "\n",
      "S: 10\n",
      "Mean: 592.2226575532882\n",
      "Std Dev: 21.187269290607762\n",
      "\n",
      "S: 20\n",
      "Mean: 558.614218899307\n",
      "Std Dev: 11.686914031251684\n",
      "\n",
      "S: 44\n",
      "Mean: 493.4732598766561\n",
      "Std Dev: 1.7398563456515857e-13\n"
     ]
    }
   ],
   "source": [
    "run_n_sfolds(3,         data)\n",
    "run_n_sfolds(5,         data)\n",
    "run_n_sfolds(10,        data)\n",
    "run_n_sfolds(20,        data)\n",
    "run_n_sfolds(len(data), data)"
   ]
  }
 ],
 "metadata": {
  "kernelspec": {
   "display_name": "Python 3",
   "language": "python",
   "name": "python3"
  },
  "language_info": {
   "codemirror_mode": {
    "name": "ipython",
    "version": 3
   },
   "file_extension": ".py",
   "mimetype": "text/x-python",
   "name": "python",
   "nbconvert_exporter": "python",
   "pygments_lexer": "ipython3",
   "version": "3.8.5"
  }
 },
 "nbformat": 4,
 "nbformat_minor": 1
}