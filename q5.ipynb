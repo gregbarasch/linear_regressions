{
 "cells": [
  {
   "cell_type": "code",
   "execution_count": 1,
   "metadata": {},
   "outputs": [],
   "source": [
    "from sklearn.model_selection import train_test_split\n",
    "import matplotlib.pyplot as plt\n",
    "import numpy as np\n",
    "import pandas as pd\n",
    "import math\n",
    "import random"
   ]
  },
  {
   "cell_type": "code",
   "execution_count": 2,
   "metadata": {},
   "outputs": [
    {
     "name": "stdout",
     "output_type": "stream",
     "text": [
      "    Age  Temp of Water  Length of Fish\n",
      "0    14             25             620\n",
      "1    28             25            1315\n",
      "2    41             25            2120\n",
      "3    55             25            2600\n",
      "4    69             25            3110\n",
      "5    83             25            3535\n",
      "6    97             25            3935\n",
      "7   111             25            4465\n",
      "8   125             25            4530\n",
      "9   139             25            4570\n",
      "10  153             25            4600\n",
      "11   14             27             625\n",
      "12   28             27            1215\n",
      "13   41             27            2110\n",
      "14   55             27            2805\n",
      "15   69             27            3255\n",
      "16   83             27            4015\n",
      "17   97             27            4315\n",
      "18  111             27            4495\n",
      "19  125             27            4535\n",
      "20  139             27            4600\n",
      "21  153             27            4600\n",
      "22   14             29             590\n",
      "23   28             29            1305\n",
      "24   41             29            2140\n",
      "25   55             29            2890\n",
      "26   69             29            3920\n",
      "27   83             29            3920\n",
      "28   97             29            4515\n",
      "29  111             29            4520\n",
      "30  125             29            4525\n",
      "31  139             29            4565\n",
      "32  153             29            4566\n",
      "33   14             31             590\n",
      "34   28             31            1205\n",
      "35   41             31            1915\n",
      "36   55             31            2140\n",
      "37   69             31            2710\n",
      "38   83             31            3020\n",
      "39   97             31            3030\n",
      "40  111             31            3040\n",
      "41  125             31            3180\n",
      "42  139             31            3257\n",
      "43  153             31            3214\n"
     ]
    }
   ],
   "source": [
    "# Load our matrices and drop our index\n",
    "df = pd.read_csv('x06Simple.csv', header=0)\n",
    "df.drop(df.columns[0], axis=1, inplace=True)\n",
    "print(df)"
   ]
  },
  {
   "cell_type": "code",
   "execution_count": 3,
   "metadata": {},
   "outputs": [
    {
     "name": "stdout",
     "output_type": "stream",
     "text": [
      "[[  14   25  620]\n",
      " [  28   25 1315]\n",
      " [  41   25 2120]\n",
      " [  55   25 2600]\n",
      " [  69   25 3110]\n",
      " [  83   25 3535]\n",
      " [  97   25 3935]\n",
      " [ 111   25 4465]\n",
      " [ 125   25 4530]\n",
      " [ 139   25 4570]\n",
      " [ 153   25 4600]\n",
      " [  14   27  625]\n",
      " [  28   27 1215]\n",
      " [  41   27 2110]\n",
      " [  55   27 2805]\n",
      " [  69   27 3255]\n",
      " [  83   27 4015]\n",
      " [  97   27 4315]\n",
      " [ 111   27 4495]\n",
      " [ 125   27 4535]\n",
      " [ 139   27 4600]\n",
      " [ 153   27 4600]\n",
      " [  14   29  590]\n",
      " [  28   29 1305]\n",
      " [  41   29 2140]\n",
      " [  55   29 2890]\n",
      " [  69   29 3920]\n",
      " [  83   29 3920]\n",
      " [  97   29 4515]\n",
      " [ 111   29 4520]\n",
      " [ 125   29 4525]\n",
      " [ 139   29 4565]\n",
      " [ 153   29 4566]\n",
      " [  14   31  590]\n",
      " [  28   31 1205]\n",
      " [  41   31 1915]\n",
      " [  55   31 2140]\n",
      " [  69   31 2710]\n",
      " [  83   31 3020]\n",
      " [  97   31 3030]\n",
      " [ 111   31 3040]\n",
      " [ 125   31 3180]\n",
      " [ 139   31 3257]\n",
      " [ 153   31 3214]]\n"
     ]
    }
   ],
   "source": [
    "# convert our dataframe into an nparray\n",
    "data = df.to_numpy()\n",
    "print(data)"
   ]
  },
  {
   "cell_type": "code",
   "execution_count": 4,
   "metadata": {},
   "outputs": [
    {
     "name": "stdout",
     "output_type": "stream",
     "text": [
      "TRAIN:\n",
      "[[ 111   27 4495]\n",
      " [  69   27 3255]\n",
      " [  14   29  590]\n",
      " [  83   27 4015]\n",
      " [ 111   31 3040]\n",
      " [ 125   25 4530]\n",
      " [  41   27 2110]\n",
      " [  83   25 3535]\n",
      " [  97   27 4315]\n",
      " [ 153   29 4566]\n",
      " [  55   27 2805]\n",
      " [  41   31 1915]\n",
      " [ 111   25 4465]\n",
      " [  28   31 1205]\n",
      " [  28   25 1315]\n",
      " [  69   29 3920]\n",
      " [  28   27 1215]\n",
      " [  14   31  590]\n",
      " [  41   29 2140]\n",
      " [  97   25 3935]\n",
      " [  28   29 1305]\n",
      " [  55   31 2140]\n",
      " [ 153   27 4600]\n",
      " [ 125   27 4535]\n",
      " [ 139   25 4570]\n",
      " [  97   31 3030]\n",
      " [ 139   31 3257]\n",
      " [  55   25 2600]\n",
      " [  14   25  620]]\n",
      "\n",
      "TEST:\n",
      "[[ 125   29 4525]\n",
      " [  69   31 2710]\n",
      " [  83   29 3920]\n",
      " [  69   25 3110]\n",
      " [ 153   25 4600]\n",
      " [  55   29 2890]\n",
      " [  97   29 4515]\n",
      " [  14   27  625]\n",
      " [  83   31 3020]\n",
      " [ 139   29 4565]\n",
      " [ 111   29 4520]\n",
      " [ 139   27 4600]\n",
      " [ 125   31 3180]\n",
      " [  41   25 2120]\n",
      " [ 153   31 3214]]\n"
     ]
    }
   ],
   "source": [
    "# Split our data into train and test\n",
    "train, test = train_test_split(data, train_size=0.667, random_state=0)\n",
    "print(\"TRAIN:\")\n",
    "print(train)\n",
    "print(\"\\nTEST:\")\n",
    "print(test)"
   ]
  },
  {
   "cell_type": "code",
   "execution_count": 5,
   "metadata": {},
   "outputs": [],
   "source": [
    "###\n",
    "### I created this function not for reuse, but for code isolation..\n",
    "### Quick n dirty...\n",
    "### FIXME should probably clean this up\n",
    "###\n",
    "def test_set_rmse(test, thetas, train_x_mean, train_x_std):\n",
    "    total_squared_error = 0\n",
    "    for row in test:\n",
    "\n",
    "        # Normalize our test data based on training data\n",
    "        row_x = row[0:rowlen-1]\n",
    "        row_x_norm = (row_x-train_x_mean) / train_x_std\n",
    "\n",
    "        # Dont forget to add the bias!\n",
    "        row_x_norm = np.append(np.ones(1), row_x_norm)\n",
    "\n",
    "        # Calculate the distance between the predicted vs actual, and sum them up so we can average at end\n",
    "        predicted = (row_x_norm @ thetas)\n",
    "        actual = row[rowlen-1]\n",
    "        error = actual - predicted\n",
    "        total_squared_error += error**2\n",
    "\n",
    "    mse = total_squared_error / test.shape[0]\n",
    "    rmse = math.sqrt(mse)\n",
    "    return rmse"
   ]
  },
  {
   "cell_type": "code",
   "execution_count": 6,
   "metadata": {
    "pycharm": {
     "name": "#%%\n"
    }
   },
   "outputs": [
    {
     "name": "stdout",
     "output_type": "stream",
     "text": [
      "training data RMSE:\n",
      "708.2746733376791\n",
      "\n",
      "testing data RMSE:\n",
      "703.6079700382495\n"
     ]
    }
   ],
   "source": [
    "###\n",
    "### Gradient Descent\n",
    "###\n",
    "\n",
    "rowlen = train.shape[1]\n",
    "\n",
    "# Extract the x matrix and standardize\n",
    "# (with range its i:j+1 and with single value its just j... easy to have an off by 1 error with column extraction)\n",
    "train_x = train[:, 0:rowlen-1]\n",
    "\n",
    "# extracted the y column, and convert it back into a single column matrix\n",
    "train_y = train[:, rowlen-1]\n",
    "train_y = train_y.reshape(train_y.shape[0], 1)\n",
    "\n",
    "# Normalize our x training data\n",
    "train_x_mean = np.mean(train_x, axis=0)\n",
    "train_x_std = np.std(train_x, axis=0, ddof=1)\n",
    "train_x_norm = (train_x-train_x_mean) / train_x_std\n",
    "\n",
    "# Add our bias to the training data\n",
    "train_x_norm = np.append(np.ones((train.shape[0], 1)), train_x_norm, 1)\n",
    "\n",
    "# constant learning rate\n",
    "learning_rate = 0.01\n",
    "\n",
    "# init thetas at random from -1 to 1\n",
    "random.seed(a=0)\n",
    "thetas = np.asarray([random.uniform(-1, 1) for i in range(train_x_norm.shape[1])]).reshape((train_x_norm.shape[1], 1))\n",
    "\n",
    "# These are the arrays for pyplot\n",
    "train_rmses = []\n",
    "test_rmses = []\n",
    "iterations = []\n",
    "\n",
    "# Init our default values\n",
    "iteration = 0\n",
    "prev_rmse = 0\n",
    "rmse_change = 999999\n",
    "\n",
    "# perform the gradient descent\n",
    "while iteration < 1000 and rmse_change > 2**-23:\n",
    "\n",
    "    thetas = thetas - ((2*0.01)/train.shape[0]) * train_x_norm.T @ (train_x_norm @ thetas - train_y)\n",
    "\n",
    "    total_squared_error = 0\n",
    "    for i, row_x in enumerate(train_x_norm):\n",
    "        # Calculate the distance between the predicted vs actual, and sum them up so we can average at end\n",
    "        predicted = (row_x @ thetas)\n",
    "        actual = train_y[i]\n",
    "        error = actual - predicted\n",
    "        total_squared_error += error**2\n",
    "\n",
    "    # Calculate our rmse\n",
    "    mse = total_squared_error / test.shape[0]\n",
    "    rmse = math.sqrt(mse)\n",
    "\n",
    "    # Book-keeping..\n",
    "    rmse_change = abs(rmse - prev_rmse)\n",
    "    prev_rmse = rmse\n",
    "    iteration += 1\n",
    "\n",
    "    train_rmses.append(rmse)\n",
    "    test_rmses.append(test_set_rmse(test, thetas, train_x_mean, train_x_std))\n",
    "    iterations.append(iteration)\n",
    "\n",
    "print(\"training data RMSE:\")\n",
    "print(rmse)\n",
    "print(\"\\ntesting data RMSE:\")\n",
    "print(test_set_rmse(test, thetas, train_x_mean, train_x_std))"
   ]
  },
  {
   "cell_type": "code",
   "execution_count": 7,
   "metadata": {
    "pycharm": {
     "name": "#%%\n"
    }
   },
   "outputs": [
    {
     "name": "stdout",
     "output_type": "stream",
     "text": [
      "FINAL PREDICTION MODEL:\n",
      "y = 2917.664903286183 + 1221.3384966821916*X₁ + -278.68966493885176*X₂\n"
     ]
    }
   ],
   "source": [
    "# Print out final model\n",
    "subscr = str.maketrans(\"0123456789\", \"₀₁₂₃₄₅₆₇₈₉\")\n",
    "print(\"FINAL PREDICTION MODEL:\")\n",
    "print(\"y = \" + str(thetas[0][0]), end='')\n",
    "for i in range(1, len(thetas)):\n",
    "    print(\" + \" + str(thetas[i][0]) + \"*X\" + str(i).translate(subscr), end='')\n",
    "print()"
   ]
  },
  {
   "cell_type": "code",
   "execution_count": 8,
   "metadata": {
    "pycharm": {
     "name": "#%%\n"
    }
   },
   "outputs": [
    {
     "data": {
      "image/png": "[encoded data removed]",
      "text/plain": [
       "<Figure size 432x288 with 1 Axes>"
      ]
     },
     "metadata": {
      "needs_background": "light"
     },
     "output_type": "display_data"
    }
   ],
   "source": [
    "# Finally lets plot...\n",
    "plt.plot(iterations, train_rmses, color='blue', label='training_data')\n",
    "plt.plot(iterations, test_rmses, color='green', label='test_data')\n",
    "plt.xlabel(\"Iteration #\")\n",
    "plt.ylabel(\"RMSE\")\n",
    "plt.legend()\n",
    "plt.show()"
   ]
  },
  {
   "cell_type": "code",
   "execution_count": null,
   "outputs": [],
   "source": [],
   "metadata": {
    "collapsed": false,
    "pycharm": {
     "name": "#%%\n"
    }
   }
  },
  {
   "cell_type": "code",
   "execution_count": null,
   "metadata": {},
   "outputs": [],
   "source": []
  }
 ],
 "metadata": {
  "kernelspec": {
   "display_name": "Python 3",
   "language": "python",
   "name": "python3"
  },
  "language_info": {
   "codemirror_mode": {
    "name": "ipython",
    "version": 3
   },
   "file_extension": ".py",
   "mimetype": "text/x-python",
   "name": "python",
   "nbconvert_exporter": "python",
   "pygments_lexer": "ipython3",
   "version": "3.8.5"
  }
 },
 "nbformat": 4,
 "nbformat_minor": 1
}