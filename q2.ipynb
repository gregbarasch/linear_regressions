{
 "cells": [
  {
   "cell_type": "code",
   "execution_count": 1,
   "metadata": {},
   "outputs": [],
   "source": [
    "import numpy as np\n",
    "import pandas as pd\n",
    "import math"
   ]
  },
  {
   "cell_type": "code",
   "execution_count": 2,
   "metadata": {},
   "outputs": [
    {
     "name": "stdout",
     "output_type": "stream",
     "text": [
      "    Age  Temp of Water  Length of Fish\n",
      "0    14             25             620\n",
      "1    28             25            1315\n",
      "2    41             25            2120\n",
      "3    55             25            2600\n",
      "4    69             25            3110\n",
      "5    83             25            3535\n",
      "6    97             25            3935\n",
      "7   111             25            4465\n",
      "8   125             25            4530\n",
      "9   139             25            4570\n",
      "10  153             25            4600\n",
      "11   14             27             625\n",
      "12   28             27            1215\n",
      "13   41             27            2110\n",
      "14   55             27            2805\n",
      "15   69             27            3255\n",
      "16   83             27            4015\n",
      "17   97             27            4315\n",
      "18  111             27            4495\n",
      "19  125             27            4535\n",
      "20  139             27            4600\n",
      "21  153             27            4600\n",
      "22   14             29             590\n",
      "23   28             29            1305\n",
      "24   41             29            2140\n",
      "25   55             29            2890\n",
      "26   69             29            3920\n",
      "27   83             29            3920\n",
      "28   97             29            4515\n",
      "29  111             29            4520\n",
      "30  125             29            4525\n",
      "31  139             29            4565\n",
      "32  153             29            4566\n",
      "33   14             31             590\n",
      "34   28             31            1205\n",
      "35   41             31            1915\n",
      "36   55             31            2140\n",
      "37   69             31            2710\n",
      "38   83             31            3020\n",
      "39   97             31            3030\n",
      "40  111             31            3040\n",
      "41  125             31            3180\n",
      "42  139             31            3257\n",
      "43  153             31            3214\n"
     ]
    }
   ],
   "source": [
    "# Load our matrices and drop our index\n",
    "df = pd.read_csv('x06Simple.csv', header=0)\n",
    "df.drop(df.columns[0], axis=1, inplace=True)\n",
    "print(df)"
   ]
  },
  {
   "cell_type": "code",
   "execution_count": 3,
   "metadata": {},
   "outputs": [
    {
     "name": "stdout",
     "output_type": "stream",
     "text": [
      "TRAINING DATA:\n",
      "[[ 125   29 4525]\n",
      " [  69   31 2710]\n",
      " [  83   29 3920]\n",
      " [  69   25 3110]\n",
      " [ 153   25 4600]\n",
      " [  55   29 2890]\n",
      " [  97   29 4515]\n",
      " [  14   27  625]\n",
      " [  83   31 3020]\n",
      " [ 139   29 4565]\n",
      " [ 111   29 4520]\n",
      " [ 139   27 4600]\n",
      " [ 125   31 3180]\n",
      " [  41   25 2120]\n",
      " [ 153   31 3214]\n",
      " [ 111   27 4495]\n",
      " [  69   27 3255]\n",
      " [  14   29  590]\n",
      " [  83   27 4015]\n",
      " [ 111   31 3040]\n",
      " [ 125   25 4530]\n",
      " [  41   27 2110]\n",
      " [  83   25 3535]\n",
      " [  97   27 4315]\n",
      " [ 153   29 4566]\n",
      " [  55   27 2805]\n",
      " [  41   31 1915]\n",
      " [ 111   25 4465]\n",
      " [  28   31 1205]]\n",
      "\n",
      "TESTING DATA:\n",
      "[[  14   25  620]\n",
      " [  28   25 1315]\n",
      " [  55   25 2600]\n",
      " [  97   25 3935]\n",
      " [ 139   25 4570]\n",
      " [  28   27 1215]\n",
      " [ 125   27 4535]\n",
      " [ 153   27 4600]\n",
      " [  28   29 1305]\n",
      " [  41   29 2140]\n",
      " [  69   29 3920]\n",
      " [  14   31  590]\n",
      " [  55   31 2140]\n",
      " [  97   31 3030]\n",
      " [ 139   31 3257]]\n"
     ]
    }
   ],
   "source": [
    "# Pick randomized training and testing data\n",
    "train = df.sample(frac=0.667,random_state=0)\n",
    "test = df.drop(train.index)\n",
    "\n",
    "# Convert to numpy arrays\n",
    "train = train.to_numpy()\n",
    "test = test.to_numpy()\n",
    "\n",
    "print(\"TRAINING DATA:\")\n",
    "print(train)\n",
    "print(\"\\nTESTING DATA:\")\n",
    "print(test)"
   ]
  },
  {
   "cell_type": "code",
   "execution_count": 4,
   "metadata": {},
   "outputs": [
    {
     "name": "stdout",
     "output_type": "stream",
     "text": [
      "Normalized training X data:\n",
      "[[ 1.          0.86499308  0.41184693]\n",
      " [ 1.         -0.47669628  1.33058239]\n",
      " [ 1.         -0.14127394  0.41184693]\n",
      " [ 1.         -0.47669628 -1.42562399]\n",
      " [ 1.          1.53583777 -1.42562399]\n",
      " [ 1.         -0.81211863  0.41184693]\n",
      " [ 1.          0.1941484   0.41184693]\n",
      " [ 1.         -1.79442691 -0.50688853]\n",
      " [ 1.         -0.14127394  1.33058239]\n",
      " [ 1.          1.20041542  0.41184693]\n",
      " [ 1.          0.52957074  0.41184693]\n",
      " [ 1.          1.20041542 -0.50688853]\n",
      " [ 1.          0.86499308  1.33058239]\n",
      " [ 1.         -1.14754097 -1.42562399]\n",
      " [ 1.          1.53583777  1.33058239]\n",
      " [ 1.          0.52957074 -0.50688853]\n",
      " [ 1.         -0.47669628 -0.50688853]\n",
      " [ 1.         -1.79442691  0.41184693]\n",
      " [ 1.         -0.14127394 -0.50688853]\n",
      " [ 1.          0.52957074  1.33058239]\n",
      " [ 1.          0.86499308 -1.42562399]\n",
      " [ 1.         -1.14754097 -0.50688853]\n",
      " [ 1.         -0.14127394 -1.42562399]\n",
      " [ 1.          0.1941484  -0.50688853]\n",
      " [ 1.          1.53583777  0.41184693]\n",
      " [ 1.         -0.81211863 -0.50688853]\n",
      " [ 1.         -1.14754097  1.33058239]\n",
      " [ 1.          0.52957074 -1.42562399]\n",
      " [ 1.         -1.45900457  1.33058239]]\n",
      "\n",
      "Training Y data:\n",
      "[[4525]\n",
      " [2710]\n",
      " [3920]\n",
      " [3110]\n",
      " [4600]\n",
      " [2890]\n",
      " [4515]\n",
      " [ 625]\n",
      " [3020]\n",
      " [4565]\n",
      " [4520]\n",
      " [4600]\n",
      " [3180]\n",
      " [2120]\n",
      " [3214]\n",
      " [4495]\n",
      " [3255]\n",
      " [ 590]\n",
      " [4015]\n",
      " [3040]\n",
      " [4530]\n",
      " [2110]\n",
      " [3535]\n",
      " [4315]\n",
      " [4566]\n",
      " [2805]\n",
      " [1915]\n",
      " [4465]\n",
      " [1205]]\n"
     ]
    }
   ],
   "source": [
    "# Normalize our training data\n",
    "rowlen = train.shape[1]\n",
    "\n",
    "# Extract the x matrix and standardize\n",
    "# (with range its i:j+1 and with single value its just j... easy to have an off by 1 error with column extraction)\n",
    "train_x = train[:, 0:rowlen-1]\n",
    "\n",
    "# extracted the y column, and convert it back into a single column matrix, then add our bias\n",
    "train_y = train[:, rowlen-1]\n",
    "train_y = train_y.reshape(train_y.shape[0], 1)\n",
    "\n",
    "# Normalize our x training data\n",
    "train_x_mean = np.mean(train_x, axis=0)\n",
    "train_x_std = np.std(train_x, axis=0, ddof=1)\n",
    "train_x_norm = (train_x-train_x_mean) / train_x_std\n",
    "\n",
    "# Add our bias to the training data\n",
    "train_x_norm = np.append(np.ones((train.shape[0], 1)), train_x_norm, 1)\n",
    "print(\"Normalized training X data:\")\n",
    "print(train_x_norm)\n",
    "print(\"\\nTraining Y data:\")\n",
    "print(train_y)"
   ]
  },
  {
   "cell_type": "code",
   "execution_count": 5,
   "metadata": {
    "pycharm": {
     "name": "#%%\n"
    }
   },
   "outputs": [
    {
     "name": "stdout",
     "output_type": "stream",
     "text": [
      "FINAL PREDICTION MODEL:\n",
      "y = 3343.2758620689656 + 1036.6301652311076*X₁ + -295.66859638525415*X₂\n"
     ]
    }
   ],
   "source": [
    "# 1 shot computation of normal form of function\n",
    "thetas = np.linalg.inv(train_x_norm.T@train_x_norm) @ (train_x_norm.T@train_y)\n",
    "\n",
    "# Print out final model\n",
    "subscr = str.maketrans(\"0123456789\", \"₀₁₂₃₄₅₆₇₈₉\")\n",
    "print(\"FINAL PREDICTION MODEL:\")\n",
    "print(\"y = \" + str(thetas[0][0]), end='')\n",
    "for i in range(1, len(thetas)):\n",
    "    print(\" + \" + str(thetas[i][0]) + \"*X\" + str(i).translate(subscr), end='')\n",
    "print()"
   ]
  },
  {
   "cell_type": "code",
   "execution_count": 6,
   "metadata": {
    "pycharm": {
     "name": "#%%\n"
    }
   },
   "outputs": [
    {
     "name": "stdout",
     "output_type": "stream",
     "text": [
      "ROOT MEAN SQUARE ERROR:\n",
      "653.7601025967209\n"
     ]
    }
   ],
   "source": [
    "# Now we can use our test data and make some predictions in order to calculate root mean square error\n",
    "total_squared_error = 0\n",
    "for row in test:\n",
    "\n",
    "    # Normalize our test data based on training data\n",
    "    row_x = row[0:rowlen-1]\n",
    "    row_x_norm = (row_x-train_x_mean) / train_x_std\n",
    "\n",
    "    # Dont forget to add the bias!\n",
    "    row_x_norm = np.append(np.ones(1), row_x_norm)\n",
    "\n",
    "    # Calculate the distance between the predicted vs actual, and sum them up so we can average at end\n",
    "    predicted = (row_x_norm @ thetas)\n",
    "    actual = row[rowlen-1]\n",
    "    error = actual - predicted\n",
    "    total_squared_error += error**2\n",
    "\n",
    "mse = total_squared_error / test.shape[0]\n",
    "rmse = math.sqrt(mse)\n",
    "print(\"ROOT MEAN SQUARE ERROR:\")\n",
    "print(rmse)"
   ]
  }
 ],
 "metadata": {
  "kernelspec": {
   "display_name": "PyCharm (homework-1-code)",
   "language": "python",
   "name": "pycharm-e3afbbc"
  },
  "language_info": {
   "codemirror_mode": {
    "name": "ipython",
    "version": 3
   },
   "file_extension": ".py",
   "mimetype": "text/x-python",
   "name": "python",
   "nbconvert_exporter": "python",
   "pygments_lexer": "ipython3",
   "version": "3.8.5"
  }
 },
 "nbformat": 4,
 "nbformat_minor": 1
}