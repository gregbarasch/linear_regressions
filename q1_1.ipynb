{
 "cells": [
  {
   "cell_type": "code",
   "execution_count": 1,
   "metadata": {
    "pycharm": {
     "name": "#%%\n"
    }
   },
   "outputs": [],
   "source": [
    "import numpy as np\n",
    "from sklearn.linear_model import LinearRegression"
   ]
  },
  {
   "cell_type": "code",
   "execution_count": 2,
   "metadata": {},
   "outputs": [
    {
     "name": "stdout",
     "output_type": "stream",
     "text": [
      "X:\n",
      "[[-2]\n",
      " [-5]\n",
      " [-3]\n",
      " [ 0]\n",
      " [-6]\n",
      " [-2]\n",
      " [ 1]\n",
      " [ 5]\n",
      " [-1]\n",
      " [ 3]]\n",
      "\n",
      "Y:\n",
      "[[ 1]\n",
      " [-4]\n",
      " [ 1]\n",
      " [ 3]\n",
      " [11]\n",
      " [ 5]\n",
      " [ 0]\n",
      " [-1]\n",
      " [-3]\n",
      " [ 1]]\n"
     ]
    }
   ],
   "source": [
    "# create our x matrix\n",
    "x = np.array([[-2, -5, -3, 0, -6, -2, 1, 5, -1, 3]]).T\n",
    "print(\"X:\")\n",
    "print(x)\n",
    "\n",
    "# create our y matrix\n",
    "y = np.array([[1, -4, 1, 3, 11, 5, 0, -1, -3, 1]]).T\n",
    "print(\"\\nY:\")\n",
    "print(y)"
   ]
  },
  {
   "cell_type": "code",
   "execution_count": 3,
   "metadata": {},
   "outputs": [
    {
     "name": "stdout",
     "output_type": "stream",
     "text": [
      "x mean: [-1.]\n",
      "x std dev: [3.39934634]\n",
      "\n",
      "x matrix normalized:\n",
      "[[-0.2941742 ]\n",
      " [-1.17669681]\n",
      " [-0.58834841]\n",
      " [ 0.2941742 ]\n",
      " [-1.47087101]\n",
      " [-0.2941742 ]\n",
      " [ 0.58834841]\n",
      " [ 1.76504522]\n",
      " [ 0.        ]\n",
      " [ 1.17669681]]\n"
     ]
    }
   ],
   "source": [
    "# Normalize our x data\n",
    "x_mean = np.mean(x, axis=0)\n",
    "x_std = np.std(x, axis=0, ddof=1)\n",
    "x_norm = (x-x_mean) / x_std\n",
    "\n",
    "print(\"x mean: \" + str(x_mean))\n",
    "print(\"x std dev: \" + str(x_std))\n",
    "print(\"\\nx matrix normalized:\")\n",
    "print(x_norm)"
   ]
  },
  {
   "cell_type": "code",
   "execution_count": 4,
   "metadata": {},
   "outputs": [
    {
     "name": "stdout",
     "output_type": "stream",
     "text": [
      "Normalized x matrix with bias:\n",
      "[[ 1.         -0.2941742 ]\n",
      " [ 1.         -1.17669681]\n",
      " [ 1.         -0.58834841]\n",
      " [ 1.          0.2941742 ]\n",
      " [ 1.         -1.47087101]\n",
      " [ 1.         -0.2941742 ]\n",
      " [ 1.          0.58834841]\n",
      " [ 1.          1.76504522]\n",
      " [ 1.          0.        ]\n",
      " [ 1.          1.17669681]]\n"
     ]
    }
   ],
   "source": [
    "# Add our bias\n",
    "x_norm = np.hstack((np.ones((x_norm.shape[0], 1)), x_norm))\n",
    "print(\"Normalized x matrix with bias:\")\n",
    "print(x_norm)"
   ]
  },
  {
   "cell_type": "code",
   "execution_count": 5,
   "metadata": {},
   "outputs": [
    {
     "name": "stdout",
     "output_type": "stream",
     "text": [
      "thetas = inverse(xT @ x) @ (xT @ y) -- where x is standardized\n",
      "\n",
      "xT:\n",
      "[[ 1.          1.          1.          1.          1.          1.\n",
      "   1.          1.          1.          1.        ]\n",
      " [-0.2941742  -1.17669681 -0.58834841  0.2941742  -1.47087101 -0.2941742\n",
      "   0.58834841  1.76504522  0.          1.17669681]]\n",
      "\n",
      "xT @ x:\n",
      "[[10.  0.]\n",
      " [ 0.  9.]]\n",
      "\n",
      "inverse(xT @ x):\n",
      "[[0.1        0.        ]\n",
      " [0.         0.11111111]]\n",
      "\n",
      "xT @ y:\n",
      "[[ 14.        ]\n",
      " [-13.53201332]]\n",
      "\n",
      "thetas:\n",
      "[[ 1.4       ]\n",
      " [-1.50355704]]\n"
     ]
    }
   ],
   "source": [
    "# lets visually represent a step by step to compute our thetas...\n",
    "print(\"thetas = inverse(xT @ x) @ (xT @ y) -- where x is standardized\")\n",
    "\n",
    "print(\"\\nxT:\")\n",
    "print(x_norm.T)\n",
    "\n",
    "print(\"\\nxT @ x:\")\n",
    "print(x_norm.T @ x_norm)\n",
    "\n",
    "print(\"\\ninverse(xT @ x):\")\n",
    "print(np.linalg.inv(x_norm.T @ x_norm))\n",
    "\n",
    "print(\"\\nxT @ y:\")\n",
    "print(x_norm.T @ y)\n",
    "\n",
    "# normalize our x data then 1 shot computation of normal form of function\n",
    "thetas = np.linalg.inv(x_norm.T@x_norm) @ (x_norm.T@y)\n",
    "print(\"\\nthetas:\")\n",
    "print(thetas)"
   ]
  },
  {
   "cell_type": "code",
   "execution_count": 6,
   "metadata": {
    "pycharm": {
     "name": "#%%\n"
    }
   },
   "outputs": [
    {
     "name": "stdout",
     "output_type": "stream",
     "text": [
      "thetas via sklearn linear regression:\n",
      "[[ 1.4       ]\n",
      " [-1.50355704]]\n"
     ]
    }
   ],
   "source": [
    "# comparison to the sklearn function\n",
    "reg = LinearRegression(fit_intercept=False).fit(x_norm, y)\n",
    "\n",
    "# quick transpose to convert into column vector for visual comparison\n",
    "print(\"thetas via sklearn linear regression:\")\n",
    "print(np.array(reg.coef_).T)"
   ]
  }
 ],
 "metadata": {
  "kernelspec": {
   "display_name": "PyCharm (homework-1-code)",
   "language": "python",
   "name": "pycharm-e3afbbc"
  },
  "language_info": {
   "codemirror_mode": {
    "name": "ipython",
    "version": 3
   },
   "file_extension": ".py",
   "mimetype": "text/x-python",
   "name": "python",
   "nbconvert_exporter": "python",
   "pygments_lexer": "ipython3",
   "version": "3.8.5"
  }
 },
 "nbformat": 4,
 "nbformat_minor": 1
}