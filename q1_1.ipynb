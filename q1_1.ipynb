{
 "cells": [
  {
   "cell_type": "code",
   "execution_count": 79,
   "metadata": {
    "pycharm": {
     "name": "#%%\n"
    }
   },
   "outputs": [],
   "source": [
    "import numpy as np\n",
    "from sklearn.linear_model import LinearRegression"
   ]
  },
  {
   "cell_type": "code",
   "execution_count": 80,
   "metadata": {},
   "outputs": [
    {
     "name": "stdout",
     "output_type": "stream",
     "text": [
      "(10, 2)\n"
     ]
    }
   ],
   "source": [
    "# create our x matrix\n",
    "x = np.array([[-2, -5, -3, 0, -6, -2, 1, 5, -1, 3]]).T\n",
    "\n",
    "# Normalize our data\n",
    "x_mean = np.mean(x, axis=0)\n",
    "x_std = np.std(x, axis=0, ddof=1)\n",
    "x_norm = (x-x_mean) / x_std\n",
    "\n",
    "# Add our bias\n",
    "x_norm = np.hstack((x_norm, np.ones((x_norm.shape[0], 1))))\n",
    "\n",
    "# Print\n",
    "print(np.shape(x_norm))"
   ]
  },
  {
   "cell_type": "code",
   "execution_count": 81,
   "metadata": {},
   "outputs": [
    {
     "name": "stdout",
     "output_type": "stream",
     "text": [
      "(10, 1)\n"
     ]
    }
   ],
   "source": [
    "# create our y matrix\n",
    "y = np.array([[1, -4, 1, 3, 11, 5, 0, -1, -3, 1]]).T\n",
    "print(np.shape(y))"
   ]
  },
  {
   "cell_type": "code",
   "execution_count": 82,
   "metadata": {},
   "outputs": [
    {
     "name": "stdout",
     "output_type": "stream",
     "text": [
      "[[-1.50355704]\n",
      " [ 1.4       ]]\n"
     ]
    }
   ],
   "source": [
    "# normalize our x data then 1 shot computation of normal form of function\n",
    "thetas = np.linalg.inv(x_norm.T@x_norm) @ (x_norm.T@y)\n",
    "print(thetas)"
   ]
  },
  {
   "cell_type": "code",
   "execution_count": 83,
   "metadata": {
    "pycharm": {
     "name": "#%%\n"
    }
   },
   "outputs": [
    {
     "name": "stdout",
     "output_type": "stream",
     "text": [
      "[[-1.50355704]\n",
      " [ 1.4       ]]\n"
     ]
    }
   ],
   "source": [
    "# comparison to the sklearn function\n",
    "reg = LinearRegression(fit_intercept=False).fit(x_norm, y)\n",
    "\n",
    "# quick transpose to convert into column vector for visual comparison\n",
    "print(np.array(reg.coef_).T)"
   ]
  },
  {
   "cell_type": "code",
   "execution_count": null,
   "metadata": {},
   "outputs": [],
   "source": []
  }
 ],
 "metadata": {
  "kernelspec": {
   "display_name": "PyCharm (homework-1-code)",
   "language": "python",
   "name": "pycharm-e3afbbc"
  },
  "language_info": {
   "codemirror_mode": {
    "name": "ipython",
    "version": 3
   },
   "file_extension": ".py",
   "mimetype": "text/x-python",
   "name": "python",
   "nbconvert_exporter": "python",
   "pygments_lexer": "ipython3",
   "version": "3.8.2"
  }
 },
 "nbformat": 4,
 "nbformat_minor": 1
}