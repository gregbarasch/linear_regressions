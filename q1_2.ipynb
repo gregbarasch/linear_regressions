{
 "cells": [
  {
   "cell_type": "code",
   "execution_count": 1,
   "metadata": {},
   "outputs": [
    {
     "name": "stdout",
     "output_type": "stream",
     "text": [
      "For the function g(x) = (x − 1)^4, where x is a single value (not a vector or matrix)\n"
     ]
    }
   ],
   "source": [
    "print(\"For the function g(x) = (x − 1)^4, where x is a single value (not a vector or matrix)\")"
   ]
  },
  {
   "cell_type": "code",
   "execution_count": 2,
   "metadata": {},
   "outputs": [
    {
     "name": "stdout",
     "output_type": "stream",
     "text": [
      "What is the gradient with respect to x?\n",
      "\n",
      "In order to solve for the gradient, we need to take the dirivitive\n",
      "We can simply use the power rule, which results in the following:\n",
      "\n",
      "gradient = 4(x-1)^3\n"
     ]
    }
   ],
   "source": [
    "# Part A\n",
    "print(\"What is the gradient with respect to x?\")\n",
    "\n",
    "print(\"\\nIn order to solve for the gradient, we need to take the dirivitive\")\n",
    "print(\"We can simply use the power rule, which results in the following:\")\n",
    "print(\"\\ngradient = 4(x-1)^3\")"
   ]
  },
  {
   "cell_type": "code",
   "execution_count": 3,
   "metadata": {},
   "outputs": [
    {
     "name": "stdout",
     "output_type": "stream",
     "text": [
      "What is the global minima for g(x)?\n",
      "\n",
      "The minima of this function can be found intuitively..\n",
      "Since the power of our function is 4 (an even number), the result of this power will always be a number >= 0\n",
      "In our case, the global minima is experienced when (x-1) == 0 because 0^4 == 0 - the lowest theoretical value\n",
      "\n",
      "The minimum value of 0 is experienced when x == 1\n"
     ]
    }
   ],
   "source": [
    "# Part B\n",
    "print(\"What is the global minima for g(x)?\")\n",
    "\n",
    "print(\"\\nThe minima of this function can be found intuitively..\")\n",
    "print(\"Since the power of our function is 4 (an even number), the result of this power will always be a number >= 0\")\n",
    "print(\"In our case, the global minima is experienced when (x-1) == 0 because 0^4 == 0 - the lowest theoretical value\")\n",
    "\n",
    "print(\"\\nThe minimum value of 0 is experienced when x == 1\")"
   ]
  },
  {
   "cell_type": "code",
   "execution_count": 4,
   "metadata": {
    "pycharm": {
     "name": "#%%\n"
    }
   },
   "outputs": [
    {
     "name": "stdout",
     "output_type": "stream",
     "text": [
      "Plot x vs g(x) using matplotlib and use this image in your report.\n",
      "\n",
      "\n",
      "Here you can visibly see the global minima at x == 1\n"
     ]
    },
    {
     "data": {
      "image/png": "[encoded data removed]",
      "text/plain": [
       "<Figure size 432x288 with 1 Axes>"
      ]
     },
     "metadata": {
      "needs_background": "light"
     },
     "output_type": "display_data"
    },
    {
     "name": "stdout",
     "output_type": "stream",
     "text": [
      "\n",
      "\n",
      "Here is the same graph with a larger range for x (Please note the scalar in the y axis)\n"
     ]
    },
    {
     "data": {
      "image/png": "[encoded data removed]",
      "text/plain": [
       "<Figure size 432x288 with 1 Axes>"
      ]
     },
     "metadata": {
      "needs_background": "light"
     },
     "output_type": "display_data"
    }
   ],
   "source": [
    "# Part C\n",
    "print(\"Plot x vs g(x) using matplotlib and use this image in your report.\")\n",
    "\n",
    "import numpy as np\n",
    "import matplotlib.pyplot as plt\n",
    "\n",
    "print(\"\\n\\nHere you can visibly see the global minima at x == 1\")\n",
    "x = np.array(range(-2, 4))\n",
    "y = ((x-1)**4)\n",
    "plt.plot(x, y)\n",
    "plt.show()\n",
    "\n",
    "print(\"\\n\\nHere is the same graph with a larger range for x (Please note the scalar in the y axis)\")\n",
    "x = np.array(range(-500, 501))\n",
    "y = ((x-1)**4)\n",
    "plt.plot(x, y)\n",
    "plt.show()"
   ]
  }
 ],
 "metadata": {
  "kernelspec": {
   "display_name": "Python 3",
   "language": "python",
   "name": "python3"
  },
  "language_info": {
   "codemirror_mode": {
    "name": "ipython",
    "version": 3
   },
   "file_extension": ".py",
   "mimetype": "text/x-python",
   "name": "python",
   "nbconvert_exporter": "python",
   "pygments_lexer": "ipython3",
   "version": "3.8.5"
  }
 },
 "nbformat": 4,
 "nbformat_minor": 1
}